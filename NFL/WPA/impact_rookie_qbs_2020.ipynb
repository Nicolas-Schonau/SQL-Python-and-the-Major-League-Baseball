{
 "cells": [
  {
   "cell_type": "markdown",
   "metadata": {},
   "source": [
    "# The impact of rookie QBs on the win probability"
   ]
  },
  {
   "cell_type": "markdown",
   "metadata": {},
   "source": [
    "As we are now in the second half of the 2020 NFL season, I thought it would be interesting to compare the production of the rookie quarterbacks, i.e. Joe Burrow for the Cincinnati Bengals, Tua Tagovailoa for the Miami Dolphins and Justin Herbert for the Los Angeles Chargers. What interested me specifically was the impact of their passing game on the win probability, and if it was possible to break it down for each type of pass (deep left, middle right, etc.) \n",
    "\n",
    "Before diving into the data, I have to thank [@mnpykings](https://twitter.com/mnpykings) for his incredible [tutorial on the nflfastR with Python](https://github.com/maxbolger/nflfastR-Python-Tutorial/blob/main/nflfastR_python_tutorial.ipynb) and [Hajime Alabanza](https://medium.com/@hajimealabanza?source=post_page-----fe9bb2f37116--------------------------------]) for his fascinating [article](https://medium.com/@hajimealabanza/did-the-new-orleans-saints-add-the-missing-piece-to-their-offense-fe9bb2f37116) on the Saints and his use of the WPA. As he wrote, WPA \"is a metric that measures how much more likely a team is to win a game after a given play.\" In other words, each action impacts the probabilities to win the game, either positively or negatively. This impact is quantified and recorded as \"WPA\", \"Win Probability Added\"."
   ]
  },
  {
   "cell_type": "markdown",
   "metadata": {
    "id": "aqMY3zfH98P7"
   },
   "source": [
    "## 1 : Import of the librairies and data"
   ]
  },
  {
   "cell_type": "markdown",
   "metadata": {},
   "source": [
    "Let's begin by importing the different librairies needed:\n",
    "- numpy and pandas for the cleaning and the handling of the data\n",
    "- matplotlib and seaborn for the visualization"
   ]
  },
  {
   "cell_type": "code",
   "execution_count": 1,
   "metadata": {},
   "outputs": [],
   "source": [
    "import numpy as np\n",
    "import pandas as pd\n",
    "import matplotlib\n",
    "import matplotlib.pyplot as plt\n",
    "import seaborn as sns\n",
    "%matplotlib inline"
   ]
  },
  {
   "cell_type": "markdown",
   "metadata": {},
   "source": [
    "Now we download the most recent play-by-play results of the NFL into a dataframe simply called \"data\". By the time I wrote this article, one game was left to play for week 10 but it doesn't have an impact on this analysis."
   ]
  },
  {
   "cell_type": "code",
   "execution_count": 2,
   "metadata": {
    "id": "K8mT38Mj-Gqn"
   },
   "outputs": [],
   "source": [
    "# Single season\n",
    "YEAR = 2020\n",
    "data = pd.read_csv(\n",
    "    'https://github.com/guga31bb/nflfastR-data/blob/master/data/play_by_play_' \\\n",
    "    + str(YEAR) + '.csv.gz?raw=True',compression='gzip', low_memory=False\n",
    "   )"
   ]
  },
  {
   "cell_type": "markdown",
   "metadata": {},
   "source": [
    "## 2. Cleaning and modification of the data"
   ]
  },
  {
   "cell_type": "markdown",
   "metadata": {},
   "source": [
    "The table contains 2 columns defining the type of the pass:\n",
    "- pass_length : short or deep\n",
    "- pass_location : left, middle, or right\n",
    "\n",
    "We'll create a new column called \"pass_type\" by concatenating these two.\n",
    "\n",
    "Next, we'll calculate a new column called \"wpa_pct\" by multiplying the current wpa by 100."
   ]
  },
  {
   "cell_type": "code",
   "execution_count": 3,
   "metadata": {
    "colab": {
     "base_uri": "https://localhost:8080/",
     "height": 1000
    },
    "id": "n0zwca_WYRK8",
    "outputId": "95b60ba8-9ffd-43bf-e6da-7dda4e3deb68"
   },
   "outputs": [],
   "source": [
    "data['pass_type'] = data['pass_length'] + ' - ' + data['pass_location']\n",
    "data['wpa_pct'] = (100*data['wpa'])"
   ]
  },
  {
   "cell_type": "markdown",
   "metadata": {},
   "source": [
    "Let's remove the data we do not want for our analysis, like kneel downs, field goals, penalties, etc, and assign this new dataframe to \"df\"."
   ]
  },
  {
   "cell_type": "code",
   "execution_count": 4,
   "metadata": {},
   "outputs": [],
   "source": [
    "df = data[\n",
    "    (data.play_type.isin(['no_play','pass','run'])) &\n",
    "    (data.sack==0) &      \n",
    "    (data.two_point_attempt==0) &\n",
    "    (data['epa'].isna()==False)\n",
    "    ]"
   ]
  },
  {
   "cell_type": "markdown",
   "metadata": {},
   "source": [
    "Let's take a moment to state the obvious: it is correct that the results we'll get are biased. Indeed, Burrow and Herbert have both played the entirety of the season (or 8 out of 9 games for Herbert) while Tua has officially played only 4 matches, and for his first match, he only threw 2 passes as he entered late in the game and only played 5 snaps. We accept this bias as our objective is to get a snap shot of their season so far.\n",
    "\n",
    "In order to do this, we'll take their data into a new dataframe called \"rookies_df\" and calculate their basic stats:"
   ]
  },
  {
   "cell_type": "code",
   "execution_count": 5,
   "metadata": {
    "scrolled": true
   },
   "outputs": [
    {
     "data": {
      "text/html": [
       "<div>\n",
       "<style scoped>\n",
       "    .dataframe tbody tr th:only-of-type {\n",
       "        vertical-align: middle;\n",
       "    }\n",
       "\n",
       "    .dataframe tbody tr th {\n",
       "        vertical-align: top;\n",
       "    }\n",
       "\n",
       "    .dataframe thead th {\n",
       "        text-align: right;\n",
       "    }\n",
       "</style>\n",
       "<table border=\"1\" class=\"dataframe\">\n",
       "  <thead>\n",
       "    <tr style=\"text-align: right;\">\n",
       "      <th></th>\n",
       "      <th>games_played</th>\n",
       "      <th>pass_attempts</th>\n",
       "      <th>complete_passes</th>\n",
       "      <th>total_yards_gained</th>\n",
       "      <th>TD</th>\n",
       "      <th>interceptions</th>\n",
       "    </tr>\n",
       "    <tr>\n",
       "      <th>passer_player_name</th>\n",
       "      <th></th>\n",
       "      <th></th>\n",
       "      <th></th>\n",
       "      <th></th>\n",
       "      <th></th>\n",
       "      <th></th>\n",
       "    </tr>\n",
       "  </thead>\n",
       "  <tbody>\n",
       "    <tr>\n",
       "      <th>J.Burrow</th>\n",
       "      <td>9</td>\n",
       "      <td>367.0</td>\n",
       "      <td>242.0</td>\n",
       "      <td>2485.0</td>\n",
       "      <td>12.0</td>\n",
       "      <td>5.0</td>\n",
       "    </tr>\n",
       "    <tr>\n",
       "      <th>J.Herbert</th>\n",
       "      <td>8</td>\n",
       "      <td>297.0</td>\n",
       "      <td>200.0</td>\n",
       "      <td>2328.0</td>\n",
       "      <td>19.0</td>\n",
       "      <td>6.0</td>\n",
       "    </tr>\n",
       "    <tr>\n",
       "      <th>T.Tagovailoa</th>\n",
       "      <td>4</td>\n",
       "      <td>76.0</td>\n",
       "      <td>49.0</td>\n",
       "      <td>519.0</td>\n",
       "      <td>5.0</td>\n",
       "      <td>0.0</td>\n",
       "    </tr>\n",
       "  </tbody>\n",
       "</table>\n",
       "</div>"
      ],
      "text/plain": [
       "                    games_played  pass_attempts  complete_passes  \\\n",
       "passer_player_name                                                 \n",
       "J.Burrow                       9          367.0            242.0   \n",
       "J.Herbert                      8          297.0            200.0   \n",
       "T.Tagovailoa                   4           76.0             49.0   \n",
       "\n",
       "                    total_yards_gained    TD  interceptions  \n",
       "passer_player_name                                           \n",
       "J.Burrow                        2485.0  12.0            5.0  \n",
       "J.Herbert                       2328.0  19.0            6.0  \n",
       "T.Tagovailoa                     519.0   5.0            0.0  "
      ]
     },
     "execution_count": 5,
     "metadata": {},
     "output_type": "execute_result"
    }
   ],
   "source": [
    "rookies_df = df[df.passer_player_name.isin(['T.Tagovailoa','J.Burrow','J.Herbert'])]\n",
    "\n",
    "rookies_df.groupby('passer_player_name').agg(\n",
    "    games_played=('game_id', 'nunique'),\n",
    "    pass_attempts=('pass_attempt', 'sum'),\n",
    "    complete_passes=('complete_pass', 'sum'),\n",
    "    total_yards_gained=('yards_gained','sum'),\n",
    "    TD=('pass_touchdown','sum'),\n",
    "    interceptions=('interception','sum')\n",
    ")"
   ]
  },
  {
   "cell_type": "markdown",
   "metadata": {},
   "source": [
    "## 3: Focus on the wpa"
   ]
  },
  {
   "cell_type": "markdown",
   "metadata": {},
   "source": [
    "Now we can focus on the wpa stat. One way to analyze them is to group them in a single table:"
   ]
  },
  {
   "cell_type": "code",
   "execution_count": 6,
   "metadata": {},
   "outputs": [
    {
     "data": {
      "text/html": [
       "<div>\n",
       "<style scoped>\n",
       "    .dataframe tbody tr th:only-of-type {\n",
       "        vertical-align: middle;\n",
       "    }\n",
       "\n",
       "    .dataframe tbody tr th {\n",
       "        vertical-align: top;\n",
       "    }\n",
       "\n",
       "    .dataframe thead th {\n",
       "        text-align: right;\n",
       "    }\n",
       "</style>\n",
       "<table border=\"1\" class=\"dataframe\">\n",
       "  <thead>\n",
       "    <tr style=\"text-align: right;\">\n",
       "      <th>passer_player_name</th>\n",
       "      <th>J.Burrow</th>\n",
       "      <th>J.Herbert</th>\n",
       "      <th>T.Tagovailoa</th>\n",
       "    </tr>\n",
       "    <tr>\n",
       "      <th>pass_type</th>\n",
       "      <th></th>\n",
       "      <th></th>\n",
       "      <th></th>\n",
       "    </tr>\n",
       "  </thead>\n",
       "  <tbody>\n",
       "    <tr>\n",
       "      <th>deep - left</th>\n",
       "      <td>-0.202351</td>\n",
       "      <td>2.027038</td>\n",
       "      <td>0.608190</td>\n",
       "    </tr>\n",
       "    <tr>\n",
       "      <th>deep - middle</th>\n",
       "      <td>-1.698436</td>\n",
       "      <td>0.644841</td>\n",
       "      <td>3.416979</td>\n",
       "    </tr>\n",
       "    <tr>\n",
       "      <th>deep - right</th>\n",
       "      <td>0.378192</td>\n",
       "      <td>4.134274</td>\n",
       "      <td>0.970340</td>\n",
       "    </tr>\n",
       "    <tr>\n",
       "      <th>short - left</th>\n",
       "      <td>0.456855</td>\n",
       "      <td>0.556691</td>\n",
       "      <td>0.551655</td>\n",
       "    </tr>\n",
       "    <tr>\n",
       "      <th>short - middle</th>\n",
       "      <td>0.879427</td>\n",
       "      <td>0.568895</td>\n",
       "      <td>1.195688</td>\n",
       "    </tr>\n",
       "    <tr>\n",
       "      <th>short - right</th>\n",
       "      <td>1.448731</td>\n",
       "      <td>0.128161</td>\n",
       "      <td>0.481609</td>\n",
       "    </tr>\n",
       "  </tbody>\n",
       "</table>\n",
       "</div>"
      ],
      "text/plain": [
       "passer_player_name  J.Burrow  J.Herbert  T.Tagovailoa\n",
       "pass_type                                            \n",
       "deep - left        -0.202351   2.027038      0.608190\n",
       "deep - middle      -1.698436   0.644841      3.416979\n",
       "deep - right        0.378192   4.134274      0.970340\n",
       "short - left        0.456855   0.556691      0.551655\n",
       "short - middle      0.879427   0.568895      1.195688\n",
       "short - right       1.448731   0.128161      0.481609"
      ]
     },
     "execution_count": 6,
     "metadata": {},
     "output_type": "execute_result"
    }
   ],
   "source": [
    "table = pd.pivot_table(rookies_df, values='wpa_pct', index=['passer_player_name'],columns=['pass_type'], aggfunc=np.mean)\n",
    "rookies_grouped = table.transpose()\n",
    "rookies_grouped"
   ]
  },
  {
   "cell_type": "markdown",
   "metadata": {},
   "source": [
    "We have the results, but it's clearly not the best way to compare them. What we are going to do is use an heatmap to represent the field and put the data in a way that is more interesting to the eye.\n",
    "\n",
    "In order to achieve this, we'll follow several steps:\n",
    "\n",
    "- Isolate the stats of a QB\n",
    "- Transform the dataframe in order to have data presented in the same order as in the visualization we want to get\n",
    "- Rename the index and columns for more convenience\n",
    "- Repeat the exact same steps for the other QBs"
   ]
  },
  {
   "cell_type": "code",
   "execution_count": 7,
   "metadata": {},
   "outputs": [],
   "source": [
    "Burrow_WPA = rookies_grouped['J.Burrow'].reset_index()\n",
    "Burrow_plot_data = (Burrow_WPA.join(Burrow_WPA['pass_type'].str.split(' - ', expand=True))\n",
    "               .pivot(index=0, columns=1, values='J.Burrow')\n",
    "            )\n",
    "\n",
    "Burrow_plot_data.index.name = \"Pass length\"\n",
    "Burrow_plot_data.columns.name = \"Pass location\""
   ]
  },
  {
   "cell_type": "code",
   "execution_count": 8,
   "metadata": {},
   "outputs": [],
   "source": [
    "Tagovailoa_WPA = rookies_grouped['T.Tagovailoa'].reset_index()\n",
    "Tagovailoa_plot_data = (Tagovailoa_WPA.join(Tagovailoa_WPA['pass_type'].str.split(' - ', expand=True))\n",
    "               .pivot(index=0, columns=1, values='T.Tagovailoa')\n",
    "            )\n",
    "\n",
    "Tagovailoa_plot_data.index.name = \"Pass length\"\n",
    "Tagovailoa_plot_data.columns.name = \"Pass location\""
   ]
  },
  {
   "cell_type": "code",
   "execution_count": 9,
   "metadata": {},
   "outputs": [],
   "source": [
    "Herbert_WPA = rookies_grouped['J.Herbert'].reset_index()\n",
    "Herbert_plot_data = (Herbert_WPA.join(Herbert_WPA['pass_type'].str.split(' - ', expand=True))\n",
    "               .pivot(index=0, columns=1, values='J.Herbert')\n",
    "            )\n",
    "\n",
    "Herbert_plot_data.index.name = \"Pass length\"\n",
    "Herbert_plot_data.columns.name = \"Pass location\""
   ]
  },
  {
   "cell_type": "markdown",
   "metadata": {},
   "source": [
    "Now that we have the data for each QB, we can pass them into a seaborn heatmap, adjust the parameters to make it more interesting (color bar going from red to green, use the same scale for every graph, etc.) and call them."
   ]
  },
  {
   "cell_type": "code",
   "execution_count": 10,
   "metadata": {
    "scrolled": true
   },
   "outputs": [
    {
     "data": {
      "image/png": "[encoded data removed]",
      "text/plain": [
       "<Figure size 432x288 with 2 Axes>"
      ]
     },
     "metadata": {
      "needs_background": "light"
     },
     "output_type": "display_data"
    }
   ],
   "source": [
    "ax = sns.heatmap(Burrow_plot_data, annot=True, linewidths=.4,cmap=\"RdYlGn\",vmin=-1.8,vmax=4.2)\n",
    "plt.title('Burrow average WPA')\n",
    "plt.show()"
   ]
  },
  {
   "cell_type": "code",
   "execution_count": 11,
   "metadata": {},
   "outputs": [
    {
     "data": {
      "image/png": "[encoded data removed]",
      "text/plain": [
       "<Figure size 432x288 with 2 Axes>"
      ]
     },
     "metadata": {
      "needs_background": "light"
     },
     "output_type": "display_data"
    }
   ],
   "source": [
    "T_ax = sns.heatmap(Tagovailoa_plot_data, annot=True, linewidths=.4,cmap=\"RdYlGn\",vmin=-1.8,vmax=4.2)\n",
    "plt.title('Tagovailoa average WPA')\n",
    "plt.show()"
   ]
  },
  {
   "cell_type": "code",
   "execution_count": 12,
   "metadata": {},
   "outputs": [
    {
     "data": {
      "image/png": "[encoded data removed]",
      "text/plain": [
       "<Figure size 432x288 with 2 Axes>"
      ]
     },
     "metadata": {
      "needs_background": "light"
     },
     "output_type": "display_data"
    }
   ],
   "source": [
    "H_ax = sns.heatmap(Herbert_plot_data, annot=True, linewidths=.4,cmap=\"RdYlGn\",vmin=-1.8,vmax=4.2)\n",
    "plt.title('Herbert average WPA')\n",
    "plt.show()"
   ]
  },
  {
   "cell_type": "markdown",
   "metadata": {},
   "source": [
    "As we can seeon the charts, Joe Burrows is quite at ease with the short right passes, as they add in average 1.4 points of win probability, but he seems to struggle a lot with the middle deep pass, as they have an average wpa of -1.7.\n",
    "\n",
    "On the other hand, this is precisely where Tagovailoa is the most impactful : his deep middle passes add on average 3.4 point of win probability!\n",
    "\n",
    "Herbert, for his part, excels with the deep right pass: it is even the most impactful pass of the 3 QBs, as it reaches an average of 4.1 points of WPA. \n",
    "\n",
    "Sure, as I said earlier, this is a biaised comparison as Burrow and Herbert have played more than twice the number of games of Tua, and the sample size is realtively small, but this provides some interesting data for the end of this season!"
   ]
  }
 ],
 "metadata": {
  "colab": {
   "name": "Rodgers_WPA_2020",
   "provenance": []
  },
  "kernelspec": {
   "display_name": "Python 3",
   "language": "python",
   "name": "python3"
  },
  "language_info": {
   "codemirror_mode": {
    "name": "ipython",
    "version": 3
   },
   "file_extension": ".py",
   "mimetype": "text/x-python",
   "name": "python",
   "nbconvert_exporter": "python",
   "pygments_lexer": "ipython3",
   "version": "3.7.6"
  }
 },
 "nbformat": 4,
 "nbformat_minor": 1
}
