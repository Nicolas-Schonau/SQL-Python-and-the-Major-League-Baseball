{
 "cells": [
  {
   "cell_type": "markdown",
   "metadata": {
    "id": "dUltIm7DUI5C"
   },
   "source": [
    "# Heatmap with all QBs and their EPA per pass type"
   ]
  },
  {
   "cell_type": "code",
   "execution_count": 2,
   "metadata": {
    "id": "Hw0GmKx_UI5D"
   },
   "outputs": [],
   "source": [
    "#Import libraries\n",
    "import numpy as np\n",
    "import pandas as pd\n",
    "import seaborn as sns\n",
    "import matplotlib\n",
    "import matplotlib.pyplot as plt\n",
    "%matplotlib inline"
   ]
  },
  {
   "cell_type": "code",
   "execution_count": 3,
   "metadata": {
    "id": "K8mT38Mj-Gqn"
   },
   "outputs": [],
   "source": [
    "#Import the data for the whole 2020 season\n",
    "YEAR = 2020\n",
    "data = pd.read_csv(\n",
    "    'https://github.com/guga31bb/nflfastR-data/blob/master/data/play_by_play_' \\\n",
    "    + str(YEAR) + '.csv.gz?raw=True',compression='gzip', low_memory=False\n",
    "   )"
   ]
  },
  {
   "cell_type": "code",
   "execution_count": 4,
   "metadata": {
    "id": "n0zwca_WYRK8"
   },
   "outputs": [],
   "source": [
    "#Add a new column 'pass type' by concatenating pass length and pass location\n",
    "data['pass_type'] = data['pass_length'] + ' - ' + data['pass_location']"
   ]
  },
  {
   "cell_type": "code",
   "execution_count": 8,
   "metadata": {
    "id": "meSBNIDjUI5D"
   },
   "outputs": [],
   "source": [
    "#Indicate the most recent week, or the one you want to analyze in particular\n",
    "week = 12\n",
    "\n",
    "#Clean the data and only keep the pass plays. Note: test if the other conditions could be removed\n",
    "df = data[\n",
    "    (data.week<=week) &\n",
    "    (data.play_type.isin(['pass'])) &\n",
    "    (data.sack==0) &      \n",
    "    (data.two_point_attempt==0) &\n",
    "    (data['passer_player_name'].isna()==False)\n",
    "    ]"
   ]
  },
  {
   "cell_type": "code",
   "execution_count": 6,
   "metadata": {
    "colab": {
     "base_uri": "https://localhost:8080/"
    },
    "id": "pYPH5N8bgg4y",
    "outputId": "da66d35f-fdf8-4711-e877-2d242ee51fd3"
   },
   "outputs": [
    {
     "name": "stderr",
     "output_type": "stream",
     "text": [
      "C:\\Users\\nicol\\anaconda3\\lib\\site-packages\\ipykernel_launcher.py:2: SettingWithCopyWarning: \n",
      "A value is trying to be set on a copy of a slice from a DataFrame.\n",
      "Try using .loc[row_indexer,col_indexer] = value instead\n",
      "\n",
      "See the caveats in the documentation: https://pandas.pydata.org/pandas-docs/stable/user_guide/indexing.html#returning-a-view-versus-a-copy\n",
      "  \n"
     ]
    }
   ],
   "source": [
    "#Correcting G.Minshew II that is present twice\n",
    "df['passer_player_name'] = df['passer_player_name'].replace(['G.Minshew II'],'G.Minshew')"
   ]
  },
  {
   "cell_type": "code",
   "execution_count": 7,
   "metadata": {
    "id": "NyNrCk49UI5F"
   },
   "outputs": [],
   "source": [
    "#Make an Excel-like pivot table and calculate the average WPA per pass type\n",
    "table = pd.pivot_table(df, values='epa', index=['passer_player_name'],columns=['pass_type'], aggfunc=np.mean)\n",
    "\n",
    "#Transpose it in order to have the QBs as columns\n",
    "grouped = table.transpose()\n",
    "\n",
    "#Pass the names off QBs in a list\n",
    "qb_list = grouped.columns.tolist()"
   ]
  },
  {
   "cell_type": "code",
   "execution_count": 10,
   "metadata": {
    "id": "Q_7xT9KUWJ_9"
   },
   "outputs": [],
   "source": [
    "#Go through each QB of the list, take his wpa, pass it into a heatmap and save as a png\n",
    "#Close the plt each time, otherwise the viz will merge into one unreadable monster\n",
    "for qb in qb_list:\n",
    "    epa = grouped[qb].reset_index()\n",
    "    plot_data = (epa.join(epa['pass_type'].str.split(' - ', expand=True))\n",
    "               .pivot(index=0, columns=1, values=qb)\n",
    "            )\n",
    "    plot_data.index.name = \"Pass length\"\n",
    "    plot_data.columns.name = \"Pass location\"\n",
    "    ax = sns.heatmap(plot_data, annot=True, linewidths=.4,cmap=\"RdYlGn\", vmin=-3,vmax=3)\n",
    "    plt.title(f'{qb} average EPA')\n",
    "    plt.savefig(f'{qb}.png')\n",
    "    plt.close()"
   ]
  },
  {
   "cell_type": "code",
   "execution_count": null,
   "metadata": {},
   "outputs": [],
   "source": []
  }
 ],
 "metadata": {
  "colab": {
   "collapsed_sections": [],
   "name": "Heatmap_all_qb_wpa.ipynb",
   "provenance": []
  },
  "kernelspec": {
   "display_name": "Python 3",
   "language": "python",
   "name": "python3"
  },
  "language_info": {
   "codemirror_mode": {
    "name": "ipython",
    "version": 3
   },
   "file_extension": ".py",
   "mimetype": "text/x-python",
   "name": "python",
   "nbconvert_exporter": "python",
   "pygments_lexer": "ipython3",
   "version": "3.7.6"
  }
 },
 "nbformat": 4,
 "nbformat_minor": 1
}
