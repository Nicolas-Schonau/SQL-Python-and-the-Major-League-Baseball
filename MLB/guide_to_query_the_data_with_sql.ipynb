{
 "cells": [
  {
   "cell_type": "markdown",
   "metadata": {},
   "source": [
    "# Full breakdown analysis on the leader in strike-outs"
   ]
  },
  {
   "cell_type": "markdown",
   "metadata": {},
   "source": [
    "The objective of this guide is to show how the tables can be queried to get valuable information. We try here to get, per year, the name of the player with the most strike-outs (regular season and post-season included) with his actual number of strike-outs.\n",
    "\n",
    "This query in an interesting one to break down as it combines two tables with different structures. The ```pitching``` table contains a line per player and per year for the regular season, meaning every stats of a player for a particular season is on a single line. the ```pitchingpost``` table, on the contrary, details the results per match, meaning that for a single post-season, we have several lines to sum up.\n",
    "\n",
    "Let's start by querying the ```playerid```, ```yearid``` and ```so``` from the ```pitching``` table to get the number of strike-outs per player and per year. To avoid having too many rows, we limit the output to 5 rows:"
   ]
  },
  {
   "cell_type": "markdown",
   "metadata": {},
   "source": [
    "```sql\n",
    "SELECT playerid, yearid, so\n",
    "FROM pitching\n",
    "LIMIT 5;\n",
    "```"
   ]
  },
  {
   "cell_type": "markdown",
   "metadata": {},
   "source": [
    "Which gives this:"
   ]
  },
  {
   "cell_type": "markdown",
   "metadata": {},
   "source": [
    "|\tplayerid\t|\tyearid\t|\tso\t|\n",
    "|\t\t---\t\t|\t---\t\t|\t---\t|\n",
    "|\tbechtge01\t|\t1871\t|\t1\t|\n",
    "|\tbrainas01\t|\t1871\t|\t13\t|\n",
    "|\tfergubo01\t|\t1871\t|\t0\t|\n",
    "|\tfishech01\t|\t1871\t|\t15\t|\n",
    "|\tfleetfr01\t|\t1871\t|\t0\t|"
   ]
  },
  {
   "cell_type": "markdown",
   "metadata": {},
   "source": [
    "Let's now add the ```pitchingpost``` table following those steps:\n",
    "1. Create a ```LEFT JOIN``` on the playerid columns, which are present in both tables. The ```LEFT JOIN``` here will return all lines present in the first table, ```pitching```, plus the matching lines in the ```pitchingpost```\n",
    "2. Get the total number of strike-outs per player, by adding the column ```so``` from ```pitching``` to the sum of all strike-outs of the different matches in the post-seasons.\n",
    "3. We want to make sure that the strike-outs of a post-season are added to the strike-outs of the related season (e.g.: the strike-outs in the 2019 post-season must be added to the strike-outs of the 2019 season, not to another season), so we add a ```WHERE``` clause and link the years of both tables\n",
    "4. As we have an aggregate in the ```SELECT ``` clause, we have to group our results, so the ```GROUP BY``` clause will be added"
   ]
  },
  {
   "cell_type": "markdown",
   "metadata": {},
   "source": [
    "```sql\n",
    "SELECT pi.playerid, pi.yearid, (pi.so + SUM(po.so)) AS total_so\n",
    "FROM pitching pi\n",
    "LEFT JOIN pitchingpost po ON pi.playerid = po.playerid\n",
    "WHERE pi.yearid = po.yearid\n",
    "GROUP BY pi.playerid, pi.yearid, po.yearid,pi.so\n",
    "LIMIT 5;\n",
    "```"
   ]
  },
  {
   "cell_type": "markdown",
   "metadata": {},
   "source": [
    "This gives us :"
   ]
  },
  {
   "cell_type": "markdown",
   "metadata": {},
   "source": [
    "|\tplayerid\t|\tyearid\t|\ttotal_so\t|\n",
    "|\t\t---\t\t|\t\t---\t|\t---\t|\n",
    "|\taasedo01\t|\t1979\t|\t102\t|\n",
    "|\tabadfe01\t|\t2014\t|\t51\t|\n",
    "|\tabbotgl01\t|\t1975\t|\t51\t|\n",
    "|\tabbotpa01\t|\t2000\t|\t104\t|\n",
    "|\tabbotpa01\t|\t2001\t|\t123\t|"
   ]
  },
  {
   "cell_type": "markdown",
   "metadata": {},
   "source": [
    "We have now the number of strike-outs for every player and every seasons they played. However, our goal is to identify and keep the best pitcher per season. This is done by ordering the results first per ```pi.yearid``` and then by ```total_so``` by using a ```ORDER BY``` clause. Then, we add a ```DISTINCT ON``` clause that we apply to ```pi.yearid```, which allows us to keep the best result per year :"
   ]
  },
  {
   "cell_type": "markdown",
   "metadata": {},
   "source": [
    "```sql\n",
    "SELECT DISTINCT ON (pi.yearid)\n",
    "\tpi.playerid, pi.yearid, (pi.so + SUM(po.so)) AS total_so\n",
    "FROM pitching pi\n",
    "LEFT JOIN pitchingpost po ON pi.playerid = po.playerid\n",
    "WHERE pi.yearid = po.yearid\n",
    "GROUP BY pi.playerid, pi.yearid, po.yearid,pi.so\n",
    "ORDER BY pi.yearid DESC, total_so DESC\n",
    "LIMIT 5;\n",
    "```"
   ]
  },
  {
   "cell_type": "markdown",
   "metadata": {},
   "source": [
    "As a result, we have:"
   ]
  },
  {
   "cell_type": "markdown",
   "metadata": {},
   "source": [
    "|\tplayerid\t|\tyearid\t|\ttotal_so\t|\n",
    "|\t\t---\t\t|\t---\t\t| ---\t|\n",
    "|\tcolege01\t|\t2019\t|\t373\t|\n",
    "|\tverlaju01\t|\t2018\t|\t307\t|\n",
    "|\tsalech01\t|\t2017\t|\t320\t|\n",
    "|\tscherma01\t|\t2016\t|\t296\t|\n",
    "|\tkershcl01\t|\t2015\t|\t320\t|"
   ]
  },
  {
   "cell_type": "markdown",
   "metadata": {},
   "source": [
    "Finally, in order to make the results a litlle bit easier to read, let's give the player their full name instead of their playerid. This info is located in the ```people``` table, so we just need another ```LEFT JOIN```. Let's also change the ```yearid``` column to ```season``` and ```total_so``` by ```total_strikeouts``` and then everything will be clear :"
   ]
  },
  {
   "cell_type": "markdown",
   "metadata": {},
   "source": [
    "```sql\n",
    "SELECT DISTINCT ON (pi.yearid)\n",
    "\tpe.namefirst||' '||pe.namelast AS pitcher_name, pi.yearid AS season, (pi.so + SUM(po.so)) AS total_strikeouts\n",
    "FROM pitching pi\n",
    "LEFT JOIN pitchingpost po ON pi.playerid = po.playerid\n",
    "LEFT JOIN people pe ON pi.playerid = pe.playerid\n",
    "WHERE pi.yearid = po.yearid\n",
    "GROUP BY pitcher_name, pi.yearid, po.yearid,pi.so\n",
    "ORDER BY pi.yearid DESC, total_strikeouts DESC\n",
    "LIMIT 5;\n",
    "```"
   ]
  },
  {
   "cell_type": "markdown",
   "metadata": {},
   "source": [
    "And voilà!"
   ]
  },
  {
   "cell_type": "markdown",
   "metadata": {},
   "source": [
    "|\tpitcher_name\t|\tseason\t|\ttotal_strikeouts\t|\n",
    "|\t\t---\t\t\t|\t---\t\t|\t---\t|\n",
    "|\tGerrit Cole\t|\t2019\t|\t373\t|\n",
    "|\tJustin Verlander\t|\t2018\t|\t307\t|\n",
    "|\tChris Sale\t|\t2017\t|\t320\t|\n",
    "|\tMax Scherzer\t|\t2016\t|\t296\t|\n",
    "|\tClayton Kershaw\t|\t2015\t|\t320\t|"
   ]
  },
  {
   "cell_type": "markdown",
   "metadata": {},
   "source": [
    "For the full results, just delete the ```LIMIT``` clause."
   ]
  },
  {
   "cell_type": "code",
   "execution_count": null,
   "metadata": {},
   "outputs": [],
   "source": []
  }
 ],
 "metadata": {
  "kernelspec": {
   "display_name": "Python 3",
   "language": "python",
   "name": "python3"
  },
  "language_info": {
   "codemirror_mode": {
    "name": "ipython",
    "version": 3
   },
   "file_extension": ".py",
   "mimetype": "text/x-python",
   "name": "python",
   "nbconvert_exporter": "python",
   "pygments_lexer": "ipython3",
   "version": "3.7.6"
  }
 },
 "nbformat": 4,
 "nbformat_minor": 4
}
