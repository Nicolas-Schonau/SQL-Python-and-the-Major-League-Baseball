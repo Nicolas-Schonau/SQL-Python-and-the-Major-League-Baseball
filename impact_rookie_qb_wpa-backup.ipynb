{
 "cells": [
  {
   "cell_type": "markdown",
   "metadata": {},
   "source": [
    "# The impact of rookie QBs on the win probability"
   ]
  },
  {
   "cell_type": "markdown",
   "metadata": {},
   "source": [
    "As we are now in the second half of the 2020 NFL season, I thought it would be interesting to compare the production of the rookie quarterbacks, i.e. Joe Burrow for the Cincinnati Bengals and Tua Tagovailoa for the Miami Dolphins. What interested me specifically was the impact of their passing game on the win probability, and if it was possible to break it down for each type of pass (deep left, middle right, etc.) \n",
    "\n",
    "Before diving into the data, I have to thank [@mnpykings](https://twitter.com/mnpykings) for his incredible [tutorial on the nflfastR with Python](https://github.com/maxbolger/nflfastR-Python-Tutorial/blob/main/nflfastR_python_tutorial.ipynb) and [Hajime Alabanza](https://medium.com/@hajimealabanza?source=post_page-----fe9bb2f37116--------------------------------]) for his fascinating [article](https://medium.com/@hajimealabanza/did-the-new-orleans-saints-add-the-missing-piece-to-their-offense-fe9bb2f37116) on the Saints and his use of the WPA. As he wrote, WPA \"is a metric that measures how much more likely a team is to win a game after a given play.\" In other words, each action impacts the probabilities to win the game, either positively or negatively. This impact is quantified and recorded as \"WPA\", \"Win Probability Added\"."
   ]
  },
  {
   "cell_type": "markdown",
   "metadata": {
    "id": "aqMY3zfH98P7"
   },
   "source": [
    "## 1 : Import of the librairies and data"
   ]
  },
  {
   "cell_type": "markdown",
   "metadata": {},
   "source": [
    "Let's begin by importing the different librairies needed:\n",
    "- numpy and pandas for the cleaning and the handling of the data\n",
    "- plotly for the interactive visualization"
   ]
  },
  {
   "cell_type": "code",
   "execution_count": 1,
   "metadata": {},
   "outputs": [],
   "source": [
    "import numpy as np\n",
    "import pandas as pd\n",
    "import plotly.express as px"
   ]
  },
  {
   "cell_type": "markdown",
   "metadata": {},
   "source": [
    "Now we download the most recent play-by-play results of the NFL into a dataframe simply called \"data\". By the time I wrote this article, one game was left to play for week 10 but it doesn't have an impact on this analysis."
   ]
  },
  {
   "cell_type": "code",
   "execution_count": 2,
   "metadata": {
    "id": "K8mT38Mj-Gqn"
   },
   "outputs": [],
   "source": [
    "# Single season\n",
    "YEAR = 2020\n",
    "data = pd.read_csv(\n",
    "    'https://github.com/guga31bb/nflfastR-data/blob/master/data/play_by_play_' \\\n",
    "    + str(YEAR) + '.csv.gz?raw=True',compression='gzip', low_memory=False\n",
    "   )"
   ]
  },
  {
   "cell_type": "markdown",
   "metadata": {},
   "source": [
    "## 2. Cleaning and modification of the data"
   ]
  },
  {
   "cell_type": "markdown",
   "metadata": {},
   "source": [
    "The table contains 2 columns defining the type of the pass:\n",
    "- pass_length : short or deep\n",
    "- pass_location : left, middle, or right\n",
    "\n",
    "We'll create a new column called \"pass_type\" by concatenating these two.\n",
    "\n",
    "Next, we'll calculate a new column called \"wpa_pct\" by multiplying the current wpa by 100."
   ]
  },
  {
   "cell_type": "code",
   "execution_count": 3,
   "metadata": {
    "colab": {
     "base_uri": "https://localhost:8080/",
     "height": 1000
    },
    "id": "n0zwca_WYRK8",
    "outputId": "95b60ba8-9ffd-43bf-e6da-7dda4e3deb68"
   },
   "outputs": [],
   "source": [
    "data['pass_type'] = data['pass_length'] + ' - ' + data['pass_location']\n",
    "data['wpa_pct'] = (100*data['wpa'])"
   ]
  },
  {
   "cell_type": "markdown",
   "metadata": {},
   "source": [
    "Let's remove the data we do not want for our analysis, like kneel downs, field goals, penalties, etc, and assign this new dataframe to \"df\"."
   ]
  },
  {
   "cell_type": "code",
   "execution_count": 4,
   "metadata": {},
   "outputs": [],
   "source": [
    "df = data[\n",
    "    (data.play_type.isin(['no_play','pass','run'])) &\n",
    "    (data.sack==0) &      \n",
    "    (data.two_point_attempt==0) &\n",
    "    (data['epa'].isna()==False)\n",
    "    ]"
   ]
  },
  {
   "cell_type": "markdown",
   "metadata": {},
   "source": [
    "Let's take a moment to state the obvious: it is correct that the results we'll get are biased. Indeed, Burrow has played the entirety of the season (i.e. 9 matches + the bye week) while Tua has officially played only 4 matches, and for his first match, he only threw 2 passes as he entered late in the game and only played 5 snaps. We accept this bias as our objective is to get a snap shot of their season so far.\n",
    "\n",
    "In order to do this, we'll take their data into a new dataframe called \"rookies_df\" and calculate their basic stats:"
   ]
  },
  {
   "cell_type": "code",
   "execution_count": 5,
   "metadata": {
    "scrolled": true
   },
   "outputs": [
    {
     "data": {
      "text/html": [
       "<div>\n",
       "<style scoped>\n",
       "    .dataframe tbody tr th:only-of-type {\n",
       "        vertical-align: middle;\n",
       "    }\n",
       "\n",
       "    .dataframe tbody tr th {\n",
       "        vertical-align: top;\n",
       "    }\n",
       "\n",
       "    .dataframe thead th {\n",
       "        text-align: right;\n",
       "    }\n",
       "</style>\n",
       "<table border=\"1\" class=\"dataframe\">\n",
       "  <thead>\n",
       "    <tr style=\"text-align: right;\">\n",
       "      <th></th>\n",
       "      <th>games_played</th>\n",
       "      <th>pass_attempts</th>\n",
       "      <th>complete_passes</th>\n",
       "      <th>total_yards_gained</th>\n",
       "      <th>TD</th>\n",
       "      <th>interceptions</th>\n",
       "    </tr>\n",
       "    <tr>\n",
       "      <th>passer_player_name</th>\n",
       "      <th></th>\n",
       "      <th></th>\n",
       "      <th></th>\n",
       "      <th></th>\n",
       "      <th></th>\n",
       "      <th></th>\n",
       "    </tr>\n",
       "  </thead>\n",
       "  <tbody>\n",
       "    <tr>\n",
       "      <th>J.Burrow</th>\n",
       "      <td>9</td>\n",
       "      <td>367.0</td>\n",
       "      <td>242.0</td>\n",
       "      <td>2485.0</td>\n",
       "      <td>12.0</td>\n",
       "      <td>5.0</td>\n",
       "    </tr>\n",
       "    <tr>\n",
       "      <th>T.Tagovailoa</th>\n",
       "      <td>4</td>\n",
       "      <td>76.0</td>\n",
       "      <td>49.0</td>\n",
       "      <td>519.0</td>\n",
       "      <td>5.0</td>\n",
       "      <td>0.0</td>\n",
       "    </tr>\n",
       "  </tbody>\n",
       "</table>\n",
       "</div>"
      ],
      "text/plain": [
       "                    games_played  pass_attempts  complete_passes  \\\n",
       "passer_player_name                                                 \n",
       "J.Burrow                       9          367.0            242.0   \n",
       "T.Tagovailoa                   4           76.0             49.0   \n",
       "\n",
       "                    total_yards_gained    TD  interceptions  \n",
       "passer_player_name                                           \n",
       "J.Burrow                        2485.0  12.0            5.0  \n",
       "T.Tagovailoa                     519.0   5.0            0.0  "
      ]
     },
     "execution_count": 5,
     "metadata": {},
     "output_type": "execute_result"
    }
   ],
   "source": [
    "rookies_df = df[df.passer_player_name.isin(['T.Tagovailoa','J.Burrow'])]\n",
    "\n",
    "rookies_df.groupby('passer_player_name').agg(\n",
    "    games_played=('game_id', 'nunique'),\n",
    "    pass_attempts=('pass_attempt', 'sum'),\n",
    "    complete_passes=('complete_pass', 'sum'),\n",
    "    total_yards_gained=('yards_gained','sum'),\n",
    "    TD=('pass_touchdown','sum'),\n",
    "    interceptions=('interception','sum')\n",
    ")"
   ]
  },
  {
   "cell_type": "markdown",
   "metadata": {},
   "source": [
    "## 3: Focus on the wpa"
   ]
  },
  {
   "cell_type": "markdown",
   "metadata": {},
   "source": [
    "Now we can focus on the wpa stat. One way to analyze them is to group them in a single table:"
   ]
  },
  {
   "cell_type": "code",
   "execution_count": 6,
   "metadata": {
    "colab": {
     "base_uri": "https://localhost:8080/",
     "height": 431
    },
    "id": "p3mk200TYx27",
    "outputId": "58e817f8-4aba-4b70-e0f9-dbf3d658ac5f"
   },
   "outputs": [
    {
     "data": {
      "text/html": [
       "<div>\n",
       "<style scoped>\n",
       "    .dataframe tbody tr th:only-of-type {\n",
       "        vertical-align: middle;\n",
       "    }\n",
       "\n",
       "    .dataframe tbody tr th {\n",
       "        vertical-align: top;\n",
       "    }\n",
       "\n",
       "    .dataframe thead th {\n",
       "        text-align: right;\n",
       "    }\n",
       "</style>\n",
       "<table border=\"1\" class=\"dataframe\">\n",
       "  <thead>\n",
       "    <tr style=\"text-align: right;\">\n",
       "      <th></th>\n",
       "      <th></th>\n",
       "      <th>wpa_pct</th>\n",
       "    </tr>\n",
       "    <tr>\n",
       "      <th>passer_player_name</th>\n",
       "      <th>pass_type</th>\n",
       "      <th></th>\n",
       "    </tr>\n",
       "  </thead>\n",
       "  <tbody>\n",
       "    <tr>\n",
       "      <th rowspan=\"6\" valign=\"top\">J.Burrow</th>\n",
       "      <th>deep - left</th>\n",
       "      <td>-0.202351</td>\n",
       "    </tr>\n",
       "    <tr>\n",
       "      <th>deep - middle</th>\n",
       "      <td>-1.698436</td>\n",
       "    </tr>\n",
       "    <tr>\n",
       "      <th>deep - right</th>\n",
       "      <td>0.378192</td>\n",
       "    </tr>\n",
       "    <tr>\n",
       "      <th>short - left</th>\n",
       "      <td>0.456855</td>\n",
       "    </tr>\n",
       "    <tr>\n",
       "      <th>short - middle</th>\n",
       "      <td>0.879427</td>\n",
       "    </tr>\n",
       "    <tr>\n",
       "      <th>short - right</th>\n",
       "      <td>1.448731</td>\n",
       "    </tr>\n",
       "    <tr>\n",
       "      <th rowspan=\"6\" valign=\"top\">T.Tagovailoa</th>\n",
       "      <th>deep - left</th>\n",
       "      <td>0.608190</td>\n",
       "    </tr>\n",
       "    <tr>\n",
       "      <th>deep - middle</th>\n",
       "      <td>3.416979</td>\n",
       "    </tr>\n",
       "    <tr>\n",
       "      <th>deep - right</th>\n",
       "      <td>0.970340</td>\n",
       "    </tr>\n",
       "    <tr>\n",
       "      <th>short - left</th>\n",
       "      <td>0.551655</td>\n",
       "    </tr>\n",
       "    <tr>\n",
       "      <th>short - middle</th>\n",
       "      <td>1.195688</td>\n",
       "    </tr>\n",
       "    <tr>\n",
       "      <th>short - right</th>\n",
       "      <td>0.481609</td>\n",
       "    </tr>\n",
       "  </tbody>\n",
       "</table>\n",
       "</div>"
      ],
      "text/plain": [
       "                                    wpa_pct\n",
       "passer_player_name pass_type               \n",
       "J.Burrow           deep - left    -0.202351\n",
       "                   deep - middle  -1.698436\n",
       "                   deep - right    0.378192\n",
       "                   short - left    0.456855\n",
       "                   short - middle  0.879427\n",
       "                   short - right   1.448731\n",
       "T.Tagovailoa       deep - left     0.608190\n",
       "                   deep - middle   3.416979\n",
       "                   deep - right    0.970340\n",
       "                   short - left    0.551655\n",
       "                   short - middle  1.195688\n",
       "                   short - right   0.481609"
      ]
     },
     "execution_count": 6,
     "metadata": {},
     "output_type": "execute_result"
    }
   ],
   "source": [
    "qb_grouped = rookies_df.groupby(['passer_player_name','pass_type']).agg({'wpa_pct':'mean'})\n",
    "qb_grouped"
   ]
  },
  {
   "cell_type": "markdown",
   "metadata": {},
   "source": [
    "We have the results, but it's clearly not the best way to compare them. What we are going to do is use an interactive heatmap to represent the field and put the data in a way that is more interesting to the eye.\n",
    "\n",
    "In order to achieve this, we'll follow several steps:\n",
    "- Isolate the stats of a QB\n",
    "- Separate the results for the deep passes and for the sort passes\n",
    "- Pass the results into two lists\n",
    "- Pass each list as the source of our visualization\n",
    "- Customize some parameters in order to make it more interesting\n",
    "- Repeat the exact same steps for the other QB"
   ]
  },
  {
   "cell_type": "code",
   "execution_count": 7,
   "metadata": {
    "colab": {
     "base_uri": "https://localhost:8080/",
     "height": 254
    },
    "id": "fYVu2pNpY5_z",
    "outputId": "ad5ba88c-0c64-4b66-a7ae-74cbefe38f5a"
   },
   "outputs": [],
   "source": [
    "#Steps for Joe Burrow\n",
    "Burrow_WPA = qb_grouped.loc['J.Burrow']\n",
    "Burrow_deep = Burrow_WPA.loc[['deep - left','deep - middle','deep - right']]\n",
    "Burrow_deeplist = Burrow_deep.wpa_pct.tolist()\n",
    "Burrow_short = Burrow_WPA.loc[['short - left','short - middle','short - right']]\n",
    "Burrow_shortlist = Burrow_short.wpa_pct.tolist()\n",
    "Burrow_source=[Burrow_deeplist,Burrow_shortlist]\n",
    "Burrow_fig = px.imshow(Burrow_source, color_continuous_scale ='RdYlGn', zmin=-1.7, zmax=3.5,\n",
    "                labels=dict(x=\"Pass location\", y=\"Pass length\", color=\"Average WPA\"),\n",
    "                title='Joe Burrows WPA per pass type',\n",
    "                x=['Left', 'Middle', 'Right'],\n",
    "                y=['Deep', 'Short']\n",
    "               )\n",
    "\n",
    "#Steps for Tua Tagovailoa\n",
    "Tagovailoa_WPA = qb_grouped.loc['T.Tagovailoa']\n",
    "Tagovailoa_deep = Tagovailoa_WPA.loc[['deep - left','deep - middle','deep - right']]\n",
    "Tagovailoa_deeplist = Tagovailoa_deep.wpa_pct.tolist()\n",
    "Tagovailoa_short = Tagovailoa_WPA.loc[['short - left','short - middle','short - right']]\n",
    "Tagovailoa_shortlist = Tagovailoa_short.wpa_pct.tolist()\n",
    "Tagovailoa_source=[Tagovailoa_deeplist,Tagovailoa_shortlist]\n",
    "Tagovailoa_fig = px.imshow(Tagovailoa_source, color_continuous_scale ='RdYlGn', zmin=-1.7, zmax=3.5,\n",
    "                labels=dict(x=\"Pass location\", y=\"Pass length\", color=\"Average WPA\"),\n",
    "                title='Tua Tagovailoa WPA per pass type',\n",
    "                x=['Left', 'Middle', 'Right'],\n",
    "                y=['Deep', 'Short']\n",
    "               )"
   ]
  },
  {
   "cell_type": "markdown",
   "metadata": {},
   "source": [
    "Now that our data is ready, we call the two figures we have created:"
   ]
  },
  {
   "cell_type": "code",
   "execution_count": 8,
   "metadata": {
    "colab": {
     "base_uri": "https://localhost:8080/",
     "height": 229
    },
    "id": "ItUS7LsWZLnt",
    "outputId": "579f688a-d87e-4f2f-af88-a418ccc47c7b"
   },
   "outputs": [
    {
     "data": {
      "image/svg+xml": [
       "<svg class=\"main-svg\" xmlns=\"http://www.w3.org/2000/svg\" xmlns:xlink=\"http://www.w3.org/1999/xlink\" width=\"700\" height=\"450\" style=\"\" viewBox=\"0 0 700 450\"><rect x=\"0\" y=\"0\" width=\"700\" height=\"450\" style=\"fill: rgb(255, 255, 255); fill-opacity: 1;\"/><defs id=\"defs-89e8ab\"><g class=\"clips\"><clipPath id=\"clip89e8abxyplot\" class=\"plotclip\"><rect width=\"404.99999999999994\" height=\"270\"/></clipPath><clipPath class=\"axesclip\" id=\"clip89e8abx\"><rect x=\"126.5\" y=\"0\" width=\"404.99999999999994\" height=\"450\"/></clipPath><clipPath class=\"axesclip\" id=\"clip89e8aby\"><rect x=\"0\" y=\"100\" width=\"700\" height=\"270\"/></clipPath><clipPath class=\"axesclip\" id=\"clip89e8abxy\"><rect x=\"126.5\" y=\"100\" width=\"404.99999999999994\" height=\"270\"/></clipPath></g><g class=\"gradients\"><linearGradient x1=\"0\" x2=\"0\" y1=\"1\" y2=\"0\" id=\"g89e8ab-cbcoloraxis\"><stop offset=\"0%\" stop-color=\"rgb(165, 0, 38)\" stop-opacity=\"1\"/><stop offset=\"10%\" stop-color=\"rgb(215, 48, 39)\" stop-opacity=\"1\"/><stop offset=\"20%\" stop-color=\"rgb(244, 109, 67)\" stop-opacity=\"1\"/><stop offset=\"30%\" stop-color=\"rgb(253, 174, 97)\" stop-opacity=\"1\"/><stop offset=\"40%\" stop-color=\"rgb(254, 224, 139)\" stop-opacity=\"1\"/><stop offset=\"50%\" stop-color=\"rgb(255, 255, 191)\" stop-opacity=\"1\"/><stop offset=\"60%\" stop-color=\"rgb(217, 239, 139)\" stop-opacity=\"1\"/><stop offset=\"70%\" stop-color=\"rgb(166, 217, 106)\" stop-opacity=\"1\"/><stop offset=\"80%\" stop-color=\"rgb(102, 189, 99)\" stop-opacity=\"1\"/><stop offset=\"90%\" stop-color=\"rgb(26, 152, 80)\" stop-opacity=\"1\"/><stop offset=\"100%\" stop-color=\"rgb(0, 104, 55)\" stop-opacity=\"1\"/></linearGradient></g></defs><g class=\"bglayer\"><rect class=\"bg\" x=\"126.5\" y=\"100\" width=\"404.99999999999994\" height=\"270\" style=\"fill: rgb(229, 236, 246); fill-opacity: 1; stroke-width: 0;\"/></g><g class=\"layer-below\"><g class=\"imagelayer\"/><g class=\"shapelayer\"/></g><g class=\"cartesianlayer\"><g class=\"subplot xy\"><g class=\"layer-subplot\"><g class=\"shapelayer\"/><g class=\"imagelayer\"/></g><g class=\"gridlayer\"><g class=\"x\"><path class=\"xgrid crisp\" transform=\"translate(194,0)\" d=\"M0,100v270\" style=\"stroke: rgb(255, 255, 255); stroke-opacity: 1; stroke-width: 1px;\"/><path class=\"xgrid crisp\" transform=\"translate(329,0)\" d=\"M0,100v270\" style=\"stroke: rgb(255, 255, 255); stroke-opacity: 1; stroke-width: 1px;\"/><path class=\"xgrid crisp\" transform=\"translate(464,0)\" d=\"M0,100v270\" style=\"stroke: rgb(255, 255, 255); stroke-opacity: 1; stroke-width: 1px;\"/></g><g class=\"y\"><path class=\"ygrid crisp\" transform=\"translate(0,302.5)\" d=\"M126.5,0h404.99999999999994\" style=\"stroke: rgb(255, 255, 255); stroke-opacity: 1; stroke-width: 1px;\"/><path class=\"ygrid crisp\" transform=\"translate(0,167.5)\" d=\"M126.5,0h404.99999999999994\" style=\"stroke: rgb(255, 255, 255); stroke-opacity: 1; stroke-width: 1px;\"/></g></g><g class=\"zerolinelayer\"/><path class=\"xlines-below\"/><path class=\"ylines-below\"/><g class=\"overlines-below\"/><g class=\"xaxislayer-below\"/><g class=\"yaxislayer-below\"/><g class=\"overaxes-below\"/><g class=\"plot\" transform=\"translate(126.5, 100)\" clip-path=\"url('#clip89e8abxyplot')\"><g class=\"heatmaplayer mlayer\"><g class=\"hm\"><image xmlns=\"http://www.w3.org/2000/svg\" preserveAspectRatio=\"none\" height=\"270\" width=\"405\" x=\"0\" y=\"0\" xlink:href=\"data:image/png;base64,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\" style=\"opacity: 1;\"/></g></g></g><g class=\"overplot\"/><path class=\"xlines-above crisp\" d=\"M0,0\" style=\"fill: none;\"/><path class=\"ylines-above crisp\" d=\"M0,0\" style=\"fill: none;\"/><g class=\"overlines-above\"/><g class=\"xaxislayer-above\"><g class=\"xtick\"><text text-anchor=\"middle\" x=\"0\" y=\"383\" transform=\"translate(194,0)\" style=\"font-family: 'Open Sans', verdana, arial, sans-serif; font-size: 12px; fill: rgb(42, 63, 95); fill-opacity: 1; white-space: pre;\">Left</text></g><g class=\"xtick\"><text text-anchor=\"middle\" x=\"0\" y=\"383\" transform=\"translate(329,0)\" style=\"font-family: 'Open Sans', verdana, arial, sans-serif; font-size: 12px; fill: rgb(42, 63, 95); fill-opacity: 1; white-space: pre;\">Middle</text></g><g class=\"xtick\"><text text-anchor=\"middle\" x=\"0\" y=\"383\" transform=\"translate(464,0)\" style=\"font-family: 'Open Sans', verdana, arial, sans-serif; font-size: 12px; fill: rgb(42, 63, 95); fill-opacity: 1; white-space: pre;\">Right</text></g></g><g class=\"yaxislayer-above\"><g class=\"ytick\"><text text-anchor=\"end\" x=\"125.5\" y=\"4.199999999999999\" transform=\"translate(0,302.5)\" style=\"font-family: 'Open Sans', verdana, arial, sans-serif; font-size: 12px; fill: rgb(42, 63, 95); fill-opacity: 1; white-space: pre;\">Short</text></g><g class=\"ytick\"><text text-anchor=\"end\" x=\"125.5\" y=\"4.199999999999999\" transform=\"translate(0,167.5)\" style=\"font-family: 'Open Sans', verdana, arial, sans-serif; font-size: 12px; fill: rgb(42, 63, 95); fill-opacity: 1; white-space: pre;\">Deep</text></g></g><g class=\"overaxes-above\"/></g></g><g class=\"polarlayer\"/><g class=\"ternarylayer\"/><g class=\"geolayer\"/><g class=\"funnelarealayer\"/><g class=\"pielayer\"/><g class=\"treemaplayer\"/><g class=\"sunburstlayer\"/><g class=\"glimages\"/><defs id=\"topdefs-89e8ab\"><g class=\"clips\"/></defs><g class=\"layer-above\"><g class=\"imagelayer\"/><g class=\"shapelayer\"/></g><g class=\"infolayer\"><g class=\"cbcoloraxis colorbar\" transform=\"translate(80,100)\"><rect class=\"cbbg\" x=\"508\" y=\"0\" width=\"100\" height=\"270\" style=\"fill: rgb(0, 0, 0); fill-opacity: 0; stroke: rgb(68, 68, 68); stroke-opacity: 1; stroke-width: 0;\"/><g class=\"cbfills\" transform=\"translate(0,30)\"><rect class=\"cbfill\" x=\"518\" width=\"30\" y=\"0\" height=\"230\" style=\"fill: url('#g89e8ab-cbcoloraxis');\"/></g><g class=\"cblines\" transform=\"translate(0,30)\"/><g class=\"cbaxis crisp\" transform=\"translate(0,-100)\"><g class=\"ycbcoloraxistick\"><text text-anchor=\"start\" x=\"550.9\" y=\"4.199999999999999\" transform=\"translate(0,329.03999999999996)\" style=\"font-family: 'Open Sans', verdana, arial, sans-serif; font-size: 12px; fill: rgb(42, 63, 95); fill-opacity: 1; white-space: pre;\">−1</text></g><g class=\"ycbcoloraxistick\"><text text-anchor=\"start\" x=\"550.9\" y=\"4.199999999999999\" transform=\"translate(0,284.80999999999995)\" style=\"font-family: 'Open Sans', verdana, arial, sans-serif; font-size: 12px; fill: rgb(42, 63, 95); fill-opacity: 1; white-space: pre;\">0</text></g><g class=\"ycbcoloraxistick\"><text text-anchor=\"start\" x=\"550.9\" y=\"4.199999999999999\" transform=\"translate(0,240.57999999999998)\" style=\"font-family: 'Open Sans', verdana, arial, sans-serif; font-size: 12px; fill: rgb(42, 63, 95); fill-opacity: 1; white-space: pre;\">1</text></g><g class=\"ycbcoloraxistick\"><text text-anchor=\"start\" x=\"550.9\" y=\"4.199999999999999\" transform=\"translate(0,196.34999999999997)\" style=\"font-family: 'Open Sans', verdana, arial, sans-serif; font-size: 12px; fill: rgb(42, 63, 95); fill-opacity: 1; white-space: pre;\">2</text></g><g class=\"ycbcoloraxistick\"><text text-anchor=\"start\" x=\"550.9\" y=\"4.199999999999999\" transform=\"translate(0,152.11999999999998)\" style=\"font-family: 'Open Sans', verdana, arial, sans-serif; font-size: 12px; fill: rgb(42, 63, 95); fill-opacity: 1; white-space: pre;\">3</text></g></g><g class=\"cbtitleunshift\" transform=\"translate(-80,-100)\"><g class=\"cbtitle\" transform=\"translate(0,0)\"><text class=\"ycbcoloraxistitle\" x=\"597.96\" y=\"121.99999999999999\" text-anchor=\"start\" style=\"font-family: 'Open Sans', verdana, arial, sans-serif; font-size: 12px; fill: rgb(42, 63, 95); opacity: 1; font-weight: normal; white-space: pre;\">Average WPA</text></g></g><rect class=\"cboutline\" x=\"518\" y=\"30\" width=\"30\" height=\"230\" style=\"stroke: rgb(68, 68, 68); stroke-opacity: 1; fill: none; stroke-width: 0;\"/></g><g class=\"g-gtitle\"><text class=\"gtitle\" x=\"35\" y=\"50\" text-anchor=\"start\" dy=\"0em\" style=\"font-family: 'Open Sans', verdana, arial, sans-serif; font-size: 17px; fill: rgb(42, 63, 95); opacity: 1; font-weight: normal; white-space: pre;\">Joe Burrows WPA per pass type</text></g><g class=\"g-xtitle\"><text class=\"xtitle\" x=\"329\" y=\"410.8\" text-anchor=\"middle\" style=\"font-family: 'Open Sans', verdana, arial, sans-serif; font-size: 14px; fill: rgb(42, 63, 95); opacity: 1; font-weight: normal; white-space: pre;\">Pass location</text></g><g class=\"g-ytitle\"><text class=\"ytitle\" transform=\"rotate(-90,67.7625,235)\" x=\"67.7625\" y=\"235\" text-anchor=\"middle\" style=\"font-family: 'Open Sans', verdana, arial, sans-serif; font-size: 14px; fill: rgb(42, 63, 95); opacity: 1; font-weight: normal; white-space: pre;\">Pass length</text></g></g></svg>"
      ]
     },
     "metadata": {},
     "output_type": "display_data"
    },
    {
     "data": {
      "image/svg+xml": [
       "<svg class=\"main-svg\" xmlns=\"http://www.w3.org/2000/svg\" xmlns:xlink=\"http://www.w3.org/1999/xlink\" width=\"700\" height=\"450\" style=\"\" viewBox=\"0 0 700 450\"><rect x=\"0\" y=\"0\" width=\"700\" height=\"450\" style=\"fill: rgb(255, 255, 255); fill-opacity: 1;\"/><defs id=\"defs-37bf13\"><g class=\"clips\"><clipPath id=\"clip37bf13xyplot\" class=\"plotclip\"><rect width=\"404.99999999999994\" height=\"270\"/></clipPath><clipPath class=\"axesclip\" id=\"clip37bf13x\"><rect x=\"126.5\" y=\"0\" width=\"404.99999999999994\" height=\"450\"/></clipPath><clipPath class=\"axesclip\" id=\"clip37bf13y\"><rect x=\"0\" y=\"100\" width=\"700\" height=\"270\"/></clipPath><clipPath class=\"axesclip\" id=\"clip37bf13xy\"><rect x=\"126.5\" y=\"100\" width=\"404.99999999999994\" height=\"270\"/></clipPath></g><g class=\"gradients\"><linearGradient x1=\"0\" x2=\"0\" y1=\"1\" y2=\"0\" id=\"g37bf13-cbcoloraxis\"><stop offset=\"0%\" stop-color=\"rgb(165, 0, 38)\" stop-opacity=\"1\"/><stop offset=\"10%\" stop-color=\"rgb(215, 48, 39)\" stop-opacity=\"1\"/><stop offset=\"20%\" stop-color=\"rgb(244, 109, 67)\" stop-opacity=\"1\"/><stop offset=\"30%\" stop-color=\"rgb(253, 174, 97)\" stop-opacity=\"1\"/><stop offset=\"40%\" stop-color=\"rgb(254, 224, 139)\" stop-opacity=\"1\"/><stop offset=\"50%\" stop-color=\"rgb(255, 255, 191)\" stop-opacity=\"1\"/><stop offset=\"60%\" stop-color=\"rgb(217, 239, 139)\" stop-opacity=\"1\"/><stop offset=\"70%\" stop-color=\"rgb(166, 217, 106)\" stop-opacity=\"1\"/><stop offset=\"80%\" stop-color=\"rgb(102, 189, 99)\" stop-opacity=\"1\"/><stop offset=\"90%\" stop-color=\"rgb(26, 152, 80)\" stop-opacity=\"1\"/><stop offset=\"100%\" stop-color=\"rgb(0, 104, 55)\" stop-opacity=\"1\"/></linearGradient></g></defs><g class=\"bglayer\"><rect class=\"bg\" x=\"126.5\" y=\"100\" width=\"404.99999999999994\" height=\"270\" style=\"fill: rgb(229, 236, 246); fill-opacity: 1; stroke-width: 0;\"/></g><g class=\"layer-below\"><g class=\"imagelayer\"/><g class=\"shapelayer\"/></g><g class=\"cartesianlayer\"><g class=\"subplot xy\"><g class=\"layer-subplot\"><g class=\"shapelayer\"/><g class=\"imagelayer\"/></g><g class=\"gridlayer\"><g class=\"x\"><path class=\"xgrid crisp\" transform=\"translate(194,0)\" d=\"M0,100v270\" style=\"stroke: rgb(255, 255, 255); stroke-opacity: 1; stroke-width: 1px;\"/><path class=\"xgrid crisp\" transform=\"translate(329,0)\" d=\"M0,100v270\" style=\"stroke: rgb(255, 255, 255); stroke-opacity: 1; stroke-width: 1px;\"/><path class=\"xgrid crisp\" transform=\"translate(464,0)\" d=\"M0,100v270\" style=\"stroke: rgb(255, 255, 255); stroke-opacity: 1; stroke-width: 1px;\"/></g><g class=\"y\"><path class=\"ygrid crisp\" transform=\"translate(0,302.5)\" d=\"M126.5,0h404.99999999999994\" style=\"stroke: rgb(255, 255, 255); stroke-opacity: 1; stroke-width: 1px;\"/><path class=\"ygrid crisp\" transform=\"translate(0,167.5)\" d=\"M126.5,0h404.99999999999994\" style=\"stroke: rgb(255, 255, 255); stroke-opacity: 1; stroke-width: 1px;\"/></g></g><g class=\"zerolinelayer\"/><path class=\"xlines-below\"/><path class=\"ylines-below\"/><g class=\"overlines-below\"/><g class=\"xaxislayer-below\"/><g class=\"yaxislayer-below\"/><g class=\"overaxes-below\"/><g class=\"plot\" transform=\"translate(126.5, 100)\" clip-path=\"url('#clip37bf13xyplot')\"><g class=\"heatmaplayer mlayer\"><g class=\"hm\"><image xmlns=\"http://www.w3.org/2000/svg\" preserveAspectRatio=\"none\" height=\"270\" width=\"405\" x=\"0\" y=\"0\" xlink:href=\"data:image/png;base64,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\" style=\"opacity: 1;\"/></g></g></g><g class=\"overplot\"/><path class=\"xlines-above crisp\" d=\"M0,0\" style=\"fill: none;\"/><path class=\"ylines-above crisp\" d=\"M0,0\" style=\"fill: none;\"/><g class=\"overlines-above\"/><g class=\"xaxislayer-above\"><g class=\"xtick\"><text text-anchor=\"middle\" x=\"0\" y=\"383\" transform=\"translate(194,0)\" style=\"font-family: 'Open Sans', verdana, arial, sans-serif; font-size: 12px; fill: rgb(42, 63, 95); fill-opacity: 1; white-space: pre;\">Left</text></g><g class=\"xtick\"><text text-anchor=\"middle\" x=\"0\" y=\"383\" transform=\"translate(329,0)\" style=\"font-family: 'Open Sans', verdana, arial, sans-serif; font-size: 12px; fill: rgb(42, 63, 95); fill-opacity: 1; white-space: pre;\">Middle</text></g><g class=\"xtick\"><text text-anchor=\"middle\" x=\"0\" y=\"383\" transform=\"translate(464,0)\" style=\"font-family: 'Open Sans', verdana, arial, sans-serif; font-size: 12px; fill: rgb(42, 63, 95); fill-opacity: 1; white-space: pre;\">Right</text></g></g><g class=\"yaxislayer-above\"><g class=\"ytick\"><text text-anchor=\"end\" x=\"125.5\" y=\"4.199999999999999\" transform=\"translate(0,302.5)\" style=\"font-family: 'Open Sans', verdana, arial, sans-serif; font-size: 12px; fill: rgb(42, 63, 95); fill-opacity: 1; white-space: pre;\">Short</text></g><g class=\"ytick\"><text text-anchor=\"end\" x=\"125.5\" y=\"4.199999999999999\" transform=\"translate(0,167.5)\" style=\"font-family: 'Open Sans', verdana, arial, sans-serif; font-size: 12px; fill: rgb(42, 63, 95); fill-opacity: 1; white-space: pre;\">Deep</text></g></g><g class=\"overaxes-above\"/></g></g><g class=\"polarlayer\"/><g class=\"ternarylayer\"/><g class=\"geolayer\"/><g class=\"funnelarealayer\"/><g class=\"pielayer\"/><g class=\"treemaplayer\"/><g class=\"sunburstlayer\"/><g class=\"glimages\"/><defs id=\"topdefs-37bf13\"><g class=\"clips\"/></defs><g class=\"layer-above\"><g class=\"imagelayer\"/><g class=\"shapelayer\"/></g><g class=\"infolayer\"><g class=\"cbcoloraxis colorbar\" transform=\"translate(80,100)\"><rect class=\"cbbg\" x=\"508\" y=\"0\" width=\"100\" height=\"270\" style=\"fill: rgb(0, 0, 0); fill-opacity: 0; stroke: rgb(68, 68, 68); stroke-opacity: 1; stroke-width: 0;\"/><g class=\"cbfills\" transform=\"translate(0,30)\"><rect class=\"cbfill\" x=\"518\" width=\"30\" y=\"0\" height=\"230\" style=\"fill: url('#g37bf13-cbcoloraxis');\"/></g><g class=\"cblines\" transform=\"translate(0,30)\"/><g class=\"cbaxis crisp\" transform=\"translate(0,-100)\"><g class=\"ycbcoloraxistick\"><text text-anchor=\"start\" x=\"550.9\" y=\"4.199999999999999\" transform=\"translate(0,329.03999999999996)\" style=\"font-family: 'Open Sans', verdana, arial, sans-serif; font-size: 12px; fill: rgb(42, 63, 95); fill-opacity: 1; white-space: pre;\">−1</text></g><g class=\"ycbcoloraxistick\"><text text-anchor=\"start\" x=\"550.9\" y=\"4.199999999999999\" transform=\"translate(0,284.80999999999995)\" style=\"font-family: 'Open Sans', verdana, arial, sans-serif; font-size: 12px; fill: rgb(42, 63, 95); fill-opacity: 1; white-space: pre;\">0</text></g><g class=\"ycbcoloraxistick\"><text text-anchor=\"start\" x=\"550.9\" y=\"4.199999999999999\" transform=\"translate(0,240.57999999999998)\" style=\"font-family: 'Open Sans', verdana, arial, sans-serif; font-size: 12px; fill: rgb(42, 63, 95); fill-opacity: 1; white-space: pre;\">1</text></g><g class=\"ycbcoloraxistick\"><text text-anchor=\"start\" x=\"550.9\" y=\"4.199999999999999\" transform=\"translate(0,196.34999999999997)\" style=\"font-family: 'Open Sans', verdana, arial, sans-serif; font-size: 12px; fill: rgb(42, 63, 95); fill-opacity: 1; white-space: pre;\">2</text></g><g class=\"ycbcoloraxistick\"><text text-anchor=\"start\" x=\"550.9\" y=\"4.199999999999999\" transform=\"translate(0,152.11999999999998)\" style=\"font-family: 'Open Sans', verdana, arial, sans-serif; font-size: 12px; fill: rgb(42, 63, 95); fill-opacity: 1; white-space: pre;\">3</text></g></g><g class=\"cbtitleunshift\" transform=\"translate(-80,-100)\"><g class=\"cbtitle\" transform=\"translate(0,0)\"><text class=\"ycbcoloraxistitle\" x=\"597.96\" y=\"121.99999999999999\" text-anchor=\"start\" style=\"font-family: 'Open Sans', verdana, arial, sans-serif; font-size: 12px; fill: rgb(42, 63, 95); opacity: 1; font-weight: normal; white-space: pre;\">Average WPA</text></g></g><rect class=\"cboutline\" x=\"518\" y=\"30\" width=\"30\" height=\"230\" style=\"stroke: rgb(68, 68, 68); stroke-opacity: 1; fill: none; stroke-width: 0;\"/></g><g class=\"g-gtitle\"><text class=\"gtitle\" x=\"35\" y=\"50\" text-anchor=\"start\" dy=\"0em\" style=\"font-family: 'Open Sans', verdana, arial, sans-serif; font-size: 17px; fill: rgb(42, 63, 95); opacity: 1; font-weight: normal; white-space: pre;\">Tua Tagovailoa WPA per pass type</text></g><g class=\"g-xtitle\"><text class=\"xtitle\" x=\"329\" y=\"410.8\" text-anchor=\"middle\" style=\"font-family: 'Open Sans', verdana, arial, sans-serif; font-size: 14px; fill: rgb(42, 63, 95); opacity: 1; font-weight: normal; white-space: pre;\">Pass location</text></g><g class=\"g-ytitle\"><text class=\"ytitle\" transform=\"rotate(-90,67.7625,235)\" x=\"67.7625\" y=\"235\" text-anchor=\"middle\" style=\"font-family: 'Open Sans', verdana, arial, sans-serif; font-size: 14px; fill: rgb(42, 63, 95); opacity: 1; font-weight: normal; white-space: pre;\">Pass length</text></g></g></svg>"
      ]
     },
     "metadata": {},
     "output_type": "display_data"
    }
   ],
   "source": [
    "Burrow_fig.show(\"svg\")\n",
    "Tagovailoa_fig.show(\"svg\")"
   ]
  },
  {
   "cell_type": "markdown",
   "metadata": {},
   "source": [
    "As we can see while hovering the mouse above this interactive chart, Joe Burrows is at ease with the short right passes, as they add in average 1.4 points of win probability, but he seems to struggle a lot with the middle deep pass, as they have an average wpa of -1.7. \n",
    "\n",
    "On the other hand, this is precisely where Tua is the most impactful : his deep middle passes add on average 3.4 point of win probability!\n",
    "\n",
    "Sure, as I said earlier, this is a biaised comparison as Burrow has played more than twice the number of games of Tua, and the sample size is realtively small, but this provides some interesting data for the end of this season!"
   ]
  }
 ],
 "metadata": {
  "colab": {
   "name": "Rodgers_WPA_2020",
   "provenance": []
  },
  "kernelspec": {
   "display_name": "Python 3",
   "language": "python",
   "name": "python3"
  },
  "language_info": {
   "codemirror_mode": {
    "name": "ipython",
    "version": 3
   },
   "file_extension": ".py",
   "mimetype": "text/x-python",
   "name": "python",
   "nbconvert_exporter": "python",
   "pygments_lexer": "ipython3",
   "version": "3.7.6"
  }
 },
 "nbformat": 4,
 "nbformat_minor": 1
}
